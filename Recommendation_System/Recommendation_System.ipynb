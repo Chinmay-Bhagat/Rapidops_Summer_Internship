{
 "cells": [
  {
   "cell_type": "markdown",
   "id": "7662bfa6",
   "metadata": {},
   "source": [
    "# Recommendation System"
   ]
  },
  {
   "cell_type": "markdown",
   "id": "8c7e02d2",
   "metadata": {},
   "source": [
    "## Library Installation"
   ]
  },
  {
   "cell_type": "code",
   "execution_count": 1,
   "id": "13ac1a38",
   "metadata": {},
   "outputs": [],
   "source": [
    "# pip install wordcloud"
   ]
  },
  {
   "cell_type": "code",
   "execution_count": 69,
   "id": "d5c33272",
   "metadata": {},
   "outputs": [],
   "source": [
    "# pip install surprise"
   ]
  },
  {
   "cell_type": "code",
   "execution_count": 71,
   "id": "78a71039",
   "metadata": {},
   "outputs": [],
   "source": [
    "# pip install svglib"
   ]
  },
  {
   "cell_type": "code",
   "execution_count": 74,
   "id": "942ccb78",
   "metadata": {},
   "outputs": [],
   "source": [
    "# pip install pydot"
   ]
  },
  {
   "cell_type": "code",
   "execution_count": 78,
   "id": "df0d0c2f",
   "metadata": {},
   "outputs": [],
   "source": [
    "# pip install graphviz"
   ]
  },
  {
   "cell_type": "code",
   "execution_count": 111,
   "id": "10215fa4",
   "metadata": {},
   "outputs": [],
   "source": [
    "# pip install tree"
   ]
  },
  {
   "cell_type": "markdown",
   "id": "4f913257",
   "metadata": {},
   "source": [
    "## Libraries"
   ]
  },
  {
   "cell_type": "code",
   "execution_count": 3,
   "id": "80424627",
   "metadata": {},
   "outputs": [],
   "source": [
    "# Ignore warnings :\n",
    "import warnings\n",
    "warnings.filterwarnings('ignore')\n",
    "import tensorflow as tf\n",
    "\n",
    "# Handle table-like data and matrices :\n",
    "import numpy as np\n",
    "import pandas as pd\n",
    "import math \n",
    "import itertools\n",
    "import random\n"
   ]
  },
  {
   "cell_type": "code",
   "execution_count": 4,
   "id": "1eaf925b",
   "metadata": {},
   "outputs": [],
   "source": [
    "# Modelling Helpers :\n",
    "from sklearn.impute import SimpleImputer\n",
    "from sklearn.preprocessing import Normalizer, scale\n",
    "from sklearn.model_selection import train_test_split\n",
    "from sklearn.metrics import confusion_matrix\n",
    "from sklearn.feature_selection import RFECV\n",
    "from sklearn.model_selection import GridSearchCV , KFold , cross_val_score"
   ]
  },
  {
   "cell_type": "code",
   "execution_count": 5,
   "id": "b10ffe9f",
   "metadata": {},
   "outputs": [],
   "source": [
    "# Regression\n",
    "from sklearn.metrics import mean_squared_log_error,mean_squared_error, r2_score,mean_absolute_error \n",
    "\n",
    "# Classification\n",
    "from sklearn.metrics import accuracy_score,precision_score,recall_score,f1_score\n",
    "\n",
    "\n",
    "# Deep Learning Libraries\n",
    "from keras.models import Sequential, load_model\n",
    "from keras.layers import Dense, Dropout, Flatten\n",
    "from keras.layers import Conv2D, MaxPooling2D, BatchNormalization\n",
    "from tensorflow.keras.optimizers import Adam,SGD,Adagrad,Adadelta,RMSprop\n",
    "from keras.preprocessing.image import ImageDataGenerator\n",
    "from keras.callbacks import ReduceLROnPlateau, LearningRateScheduler\n",
    "from tensorflow.keras.utils import to_categorical\n",
    "\n",
    "\n",
    "# Visualisation\n",
    "import matplotlib as mpl\n",
    "import matplotlib.pyplot as plt\n",
    "import matplotlib.pylab as pylab\n",
    "import seaborn as sns\n",
    "import missingno as msno\n",
    "\n",
    "\n",
    "# Configure visualisations\n",
    "%matplotlib inline\n",
    "mpl.style.use( 'ggplot' )\n",
    "plt.style.use('fivethirtyeight')\n",
    "sns.set(context=\"notebook\", palette=\"dark\", style = 'whitegrid' , color_codes=True)"
   ]
  },
  {
   "cell_type": "markdown",
   "id": "ec5ba19c",
   "metadata": {},
   "source": [
    "## Datasets"
   ]
  },
  {
   "cell_type": "code",
   "execution_count": 8,
   "id": "2810d991",
   "metadata": {},
   "outputs": [
    {
     "data": {
      "text/html": [
       "<div>\n",
       "<style scoped>\n",
       "    .dataframe tbody tr th:only-of-type {\n",
       "        vertical-align: middle;\n",
       "    }\n",
       "\n",
       "    .dataframe tbody tr th {\n",
       "        vertical-align: top;\n",
       "    }\n",
       "\n",
       "    .dataframe thead th {\n",
       "        text-align: right;\n",
       "    }\n",
       "</style>\n",
       "<table border=\"1\" class=\"dataframe\">\n",
       "  <thead>\n",
       "    <tr style=\"text-align: right;\">\n",
       "      <th></th>\n",
       "      <th>userId</th>\n",
       "      <th>movieId</th>\n",
       "      <th>rating</th>\n",
       "    </tr>\n",
       "  </thead>\n",
       "  <tbody>\n",
       "    <tr>\n",
       "      <th>0</th>\n",
       "      <td>1</td>\n",
       "      <td>2</td>\n",
       "      <td>3.5</td>\n",
       "    </tr>\n",
       "    <tr>\n",
       "      <th>1</th>\n",
       "      <td>1</td>\n",
       "      <td>29</td>\n",
       "      <td>3.5</td>\n",
       "    </tr>\n",
       "    <tr>\n",
       "      <th>2</th>\n",
       "      <td>1</td>\n",
       "      <td>32</td>\n",
       "      <td>3.5</td>\n",
       "    </tr>\n",
       "    <tr>\n",
       "      <th>3</th>\n",
       "      <td>1</td>\n",
       "      <td>47</td>\n",
       "      <td>3.5</td>\n",
       "    </tr>\n",
       "    <tr>\n",
       "      <th>4</th>\n",
       "      <td>1</td>\n",
       "      <td>50</td>\n",
       "      <td>3.5</td>\n",
       "    </tr>\n",
       "  </tbody>\n",
       "</table>\n",
       "</div>"
      ],
      "text/plain": [
       "   userId  movieId  rating\n",
       "0       1        2     3.5\n",
       "1       1       29     3.5\n",
       "2       1       32     3.5\n",
       "3       1       47     3.5\n",
       "4       1       50     3.5"
      ]
     },
     "execution_count": 8,
     "metadata": {},
     "output_type": "execute_result"
    }
   ],
   "source": [
    "movie_rating = pd.read_csv('movielens/rating.csv')\n",
    "movie_rating.drop(['timestamp'], axis = 1, inplace = True)\n",
    "movie_rating.head()"
   ]
  },
  {
   "cell_type": "code",
   "execution_count": 9,
   "id": "7d4d48a4",
   "metadata": {},
   "outputs": [
    {
     "data": {
      "text/plain": [
       "(20000263, 3)"
      ]
     },
     "execution_count": 9,
     "metadata": {},
     "output_type": "execute_result"
    }
   ],
   "source": [
    "movie_rating.shape"
   ]
  },
  {
   "cell_type": "code",
   "execution_count": 10,
   "id": "1c0f1c8b",
   "metadata": {},
   "outputs": [
    {
     "data": {
      "text/plain": [
       "138493"
      ]
     },
     "execution_count": 10,
     "metadata": {},
     "output_type": "execute_result"
    }
   ],
   "source": [
    "movie_rating['userId'].nunique()"
   ]
  },
  {
   "cell_type": "code",
   "execution_count": 11,
   "id": "379672b2",
   "metadata": {},
   "outputs": [
    {
     "name": "stdout",
     "output_type": "stream",
     "text": [
      "800\n"
     ]
    }
   ],
   "source": [
    "random.seed(0)\n",
    "sample_users = random.sample(list(movie_rating[\"userId\"]), 800)\n",
    "print(len(sample_users))\n",
    "# print(sample_users.head(10))"
   ]
  },
  {
   "cell_type": "code",
   "execution_count": 12,
   "id": "fb2fdc91",
   "metadata": {},
   "outputs": [
    {
     "name": "stdout",
     "output_type": "stream",
     "text": [
      "(398976, 3)\n"
     ]
    },
    {
     "data": {
      "text/html": [
       "<div>\n",
       "<style scoped>\n",
       "    .dataframe tbody tr th:only-of-type {\n",
       "        vertical-align: middle;\n",
       "    }\n",
       "\n",
       "    .dataframe tbody tr th {\n",
       "        vertical-align: top;\n",
       "    }\n",
       "\n",
       "    .dataframe thead th {\n",
       "        text-align: right;\n",
       "    }\n",
       "</style>\n",
       "<table border=\"1\" class=\"dataframe\">\n",
       "  <thead>\n",
       "    <tr style=\"text-align: right;\">\n",
       "      <th></th>\n",
       "      <th>userId</th>\n",
       "      <th>movieId</th>\n",
       "      <th>rating</th>\n",
       "    </tr>\n",
       "  </thead>\n",
       "  <tbody>\n",
       "    <tr>\n",
       "      <th>2302</th>\n",
       "      <td>22</td>\n",
       "      <td>1</td>\n",
       "      <td>3.0</td>\n",
       "    </tr>\n",
       "    <tr>\n",
       "      <th>2303</th>\n",
       "      <td>22</td>\n",
       "      <td>6</td>\n",
       "      <td>5.0</td>\n",
       "    </tr>\n",
       "    <tr>\n",
       "      <th>2304</th>\n",
       "      <td>22</td>\n",
       "      <td>16</td>\n",
       "      <td>5.0</td>\n",
       "    </tr>\n",
       "    <tr>\n",
       "      <th>2305</th>\n",
       "      <td>22</td>\n",
       "      <td>47</td>\n",
       "      <td>4.0</td>\n",
       "    </tr>\n",
       "    <tr>\n",
       "      <th>2306</th>\n",
       "      <td>22</td>\n",
       "      <td>50</td>\n",
       "      <td>4.0</td>\n",
       "    </tr>\n",
       "  </tbody>\n",
       "</table>\n",
       "</div>"
      ],
      "text/plain": [
       "      userId  movieId  rating\n",
       "2302      22        1     3.0\n",
       "2303      22        6     5.0\n",
       "2304      22       16     5.0\n",
       "2305      22       47     4.0\n",
       "2306      22       50     4.0"
      ]
     },
     "execution_count": 12,
     "metadata": {},
     "output_type": "execute_result"
    }
   ],
   "source": [
    "sample_rating_data = movie_rating[movie_rating[\"userId\"].isin(sample_users)]\n",
    "print(sample_rating_data.shape)\n",
    "sample_rating_data.head()"
   ]
  },
  {
   "cell_type": "code",
   "execution_count": 13,
   "id": "2acac026",
   "metadata": {},
   "outputs": [
    {
     "data": {
      "text/html": [
       "<div>\n",
       "<style scoped>\n",
       "    .dataframe tbody tr th:only-of-type {\n",
       "        vertical-align: middle;\n",
       "    }\n",
       "\n",
       "    .dataframe tbody tr th {\n",
       "        vertical-align: top;\n",
       "    }\n",
       "\n",
       "    .dataframe thead th {\n",
       "        text-align: right;\n",
       "    }\n",
       "</style>\n",
       "<table border=\"1\" class=\"dataframe\">\n",
       "  <thead>\n",
       "    <tr style=\"text-align: right;\">\n",
       "      <th></th>\n",
       "      <th>movieId</th>\n",
       "      <th>title</th>\n",
       "      <th>genres</th>\n",
       "    </tr>\n",
       "  </thead>\n",
       "  <tbody>\n",
       "    <tr>\n",
       "      <th>0</th>\n",
       "      <td>1</td>\n",
       "      <td>Toy Story (1995)</td>\n",
       "      <td>Adventure|Animation|Children|Comedy|Fantasy</td>\n",
       "    </tr>\n",
       "    <tr>\n",
       "      <th>1</th>\n",
       "      <td>2</td>\n",
       "      <td>Jumanji (1995)</td>\n",
       "      <td>Adventure|Children|Fantasy</td>\n",
       "    </tr>\n",
       "    <tr>\n",
       "      <th>2</th>\n",
       "      <td>3</td>\n",
       "      <td>Grumpier Old Men (1995)</td>\n",
       "      <td>Comedy|Romance</td>\n",
       "    </tr>\n",
       "    <tr>\n",
       "      <th>3</th>\n",
       "      <td>4</td>\n",
       "      <td>Waiting to Exhale (1995)</td>\n",
       "      <td>Comedy|Drama|Romance</td>\n",
       "    </tr>\n",
       "    <tr>\n",
       "      <th>4</th>\n",
       "      <td>5</td>\n",
       "      <td>Father of the Bride Part II (1995)</td>\n",
       "      <td>Comedy</td>\n",
       "    </tr>\n",
       "  </tbody>\n",
       "</table>\n",
       "</div>"
      ],
      "text/plain": [
       "   movieId                               title  \\\n",
       "0        1                    Toy Story (1995)   \n",
       "1        2                      Jumanji (1995)   \n",
       "2        3             Grumpier Old Men (1995)   \n",
       "3        4            Waiting to Exhale (1995)   \n",
       "4        5  Father of the Bride Part II (1995)   \n",
       "\n",
       "                                        genres  \n",
       "0  Adventure|Animation|Children|Comedy|Fantasy  \n",
       "1                   Adventure|Children|Fantasy  \n",
       "2                               Comedy|Romance  \n",
       "3                         Comedy|Drama|Romance  \n",
       "4                                       Comedy  "
      ]
     },
     "execution_count": 13,
     "metadata": {},
     "output_type": "execute_result"
    }
   ],
   "source": [
    "movie_name = pd.read_csv('movielens/movie.csv')\n",
    "movie_name.head()"
   ]
  },
  {
   "cell_type": "code",
   "execution_count": 14,
   "id": "83f346b5",
   "metadata": {},
   "outputs": [
    {
     "data": {
      "text/plain": [
       "(27278, 3)"
      ]
     },
     "execution_count": 14,
     "metadata": {},
     "output_type": "execute_result"
    }
   ],
   "source": [
    "movie_name.shape"
   ]
  },
  {
   "cell_type": "code",
   "execution_count": 15,
   "id": "9bec0416",
   "metadata": {},
   "outputs": [],
   "source": [
    "# movie_link = pd.read_csv('movielens/link.csv')\n",
    "# movie_link.head()"
   ]
  },
  {
   "cell_type": "code",
   "execution_count": 16,
   "id": "083f0d14",
   "metadata": {},
   "outputs": [],
   "source": [
    "# movie_link.shape"
   ]
  },
  {
   "cell_type": "code",
   "execution_count": 17,
   "id": "cf90aa6e",
   "metadata": {},
   "outputs": [],
   "source": [
    "# movie_genome_tag = pd.read_csv('movielens/genome_tags.csv')\n",
    "# movie_genome_tag.head()"
   ]
  },
  {
   "cell_type": "code",
   "execution_count": 18,
   "id": "abb1e014",
   "metadata": {},
   "outputs": [],
   "source": [
    "# movie_genome_tag.shape"
   ]
  },
  {
   "cell_type": "code",
   "execution_count": 19,
   "id": "f8c670a9",
   "metadata": {},
   "outputs": [],
   "source": [
    "# movie_genome_score = pd.read_csv('movielens/genome_scores.csv')\n",
    "# movie_genome_score.head()"
   ]
  },
  {
   "cell_type": "code",
   "execution_count": 20,
   "id": "6a2d8d53",
   "metadata": {},
   "outputs": [],
   "source": [
    "# movie_genome_score.shape"
   ]
  },
  {
   "cell_type": "code",
   "execution_count": 21,
   "id": "82e3fccf",
   "metadata": {},
   "outputs": [
    {
     "data": {
      "text/html": [
       "<div>\n",
       "<style scoped>\n",
       "    .dataframe tbody tr th:only-of-type {\n",
       "        vertical-align: middle;\n",
       "    }\n",
       "\n",
       "    .dataframe tbody tr th {\n",
       "        vertical-align: top;\n",
       "    }\n",
       "\n",
       "    .dataframe thead th {\n",
       "        text-align: right;\n",
       "    }\n",
       "</style>\n",
       "<table border=\"1\" class=\"dataframe\">\n",
       "  <thead>\n",
       "    <tr style=\"text-align: right;\">\n",
       "      <th></th>\n",
       "      <th>userId</th>\n",
       "      <th>movieId</th>\n",
       "      <th>rating</th>\n",
       "      <th>title</th>\n",
       "      <th>genres</th>\n",
       "    </tr>\n",
       "  </thead>\n",
       "  <tbody>\n",
       "    <tr>\n",
       "      <th>0</th>\n",
       "      <td>22</td>\n",
       "      <td>1</td>\n",
       "      <td>3.0</td>\n",
       "      <td>Toy Story (1995)</td>\n",
       "      <td>Adventure|Animation|Children|Comedy|Fantasy</td>\n",
       "    </tr>\n",
       "    <tr>\n",
       "      <th>1</th>\n",
       "      <td>295</td>\n",
       "      <td>1</td>\n",
       "      <td>4.0</td>\n",
       "      <td>Toy Story (1995)</td>\n",
       "      <td>Adventure|Animation|Children|Comedy|Fantasy</td>\n",
       "    </tr>\n",
       "    <tr>\n",
       "      <th>2</th>\n",
       "      <td>377</td>\n",
       "      <td>1</td>\n",
       "      <td>5.0</td>\n",
       "      <td>Toy Story (1995)</td>\n",
       "      <td>Adventure|Animation|Children|Comedy|Fantasy</td>\n",
       "    </tr>\n",
       "    <tr>\n",
       "      <th>3</th>\n",
       "      <td>572</td>\n",
       "      <td>1</td>\n",
       "      <td>5.0</td>\n",
       "      <td>Toy Story (1995)</td>\n",
       "      <td>Adventure|Animation|Children|Comedy|Fantasy</td>\n",
       "    </tr>\n",
       "    <tr>\n",
       "      <th>4</th>\n",
       "      <td>741</td>\n",
       "      <td>1</td>\n",
       "      <td>5.0</td>\n",
       "      <td>Toy Story (1995)</td>\n",
       "      <td>Adventure|Animation|Children|Comedy|Fantasy</td>\n",
       "    </tr>\n",
       "  </tbody>\n",
       "</table>\n",
       "</div>"
      ],
      "text/plain": [
       "   userId  movieId  rating             title  \\\n",
       "0      22        1     3.0  Toy Story (1995)   \n",
       "1     295        1     4.0  Toy Story (1995)   \n",
       "2     377        1     5.0  Toy Story (1995)   \n",
       "3     572        1     5.0  Toy Story (1995)   \n",
       "4     741        1     5.0  Toy Story (1995)   \n",
       "\n",
       "                                        genres  \n",
       "0  Adventure|Animation|Children|Comedy|Fantasy  \n",
       "1  Adventure|Animation|Children|Comedy|Fantasy  \n",
       "2  Adventure|Animation|Children|Comedy|Fantasy  \n",
       "3  Adventure|Animation|Children|Comedy|Fantasy  \n",
       "4  Adventure|Animation|Children|Comedy|Fantasy  "
      ]
     },
     "execution_count": 21,
     "metadata": {},
     "output_type": "execute_result"
    }
   ],
   "source": [
    "rating_name = pd.merge(sample_rating_data, movie_name, on = 'movieId')\n",
    "rating_name.head()"
   ]
  },
  {
   "cell_type": "code",
   "execution_count": 22,
   "id": "c73bcb0d",
   "metadata": {},
   "outputs": [
    {
     "data": {
      "text/plain": [
       "(398976, 5)"
      ]
     },
     "execution_count": 22,
     "metadata": {},
     "output_type": "execute_result"
    }
   ],
   "source": [
    "rating_name.shape\n",
    "# max(rating_name['rating'])"
   ]
  },
  {
   "cell_type": "markdown",
   "id": "475ae1a3",
   "metadata": {},
   "source": [
    "## Defining Genres"
   ]
  },
  {
   "cell_type": "code",
   "execution_count": 23,
   "id": "5bd7aee3",
   "metadata": {},
   "outputs": [],
   "source": [
    "# Create a function to find genres in the dataset\n",
    "\n",
    "genres = {} # create a dictionary to store different genre values\n",
    "\n",
    "def find_genres():\n",
    "    for genre in rating_name['genres']:\n",
    "        words = genre.split('|')\n",
    "        for word in words:\n",
    "            genres[word] = genres.get(word, 0) + 1\n",
    "            \n",
    "find_genres()"
   ]
  },
  {
   "cell_type": "code",
   "execution_count": 24,
   "id": "c67773be",
   "metadata": {},
   "outputs": [
    {
     "data": {
      "text/plain": [
       "{'Adventure': 74511,\n",
       " 'Animation': 19397,\n",
       " 'Children': 29192,\n",
       " 'Comedy': 149606,\n",
       " 'Fantasy': 38150,\n",
       " 'Action': 99046,\n",
       " 'Crime': 62518,\n",
       " 'Thriller': 100850,\n",
       " 'Drama': 184864,\n",
       " 'Mystery': 30478,\n",
       " 'War': 19964,\n",
       " 'Sci-Fi': 54717,\n",
       " 'Western': 8849,\n",
       " 'Romance': 74888,\n",
       " 'Horror': 31731,\n",
       " 'IMAX': 8327,\n",
       " 'Musical': 16839,\n",
       " 'Documentary': 7399,\n",
       " 'Film-Noir': 4708,\n",
       " '(no genres listed)': 24}"
      ]
     },
     "execution_count": 24,
     "metadata": {},
     "output_type": "execute_result"
    }
   ],
   "source": [
    "genres"
   ]
  },
  {
   "cell_type": "code",
   "execution_count": 25,
   "id": "c6b840be",
   "metadata": {},
   "outputs": [],
   "source": [
    "genres['None'] = genres.pop('(no genres listed)')"
   ]
  },
  {
   "cell_type": "markdown",
   "id": "17c17be1",
   "metadata": {},
   "source": [
    "### WordCloud based on the value counts of Genres"
   ]
  },
  {
   "cell_type": "code",
   "execution_count": 26,
   "id": "1077e819",
   "metadata": {},
   "outputs": [
    {
     "data": {
      "image/png": "[encoded data removed]",
      "text/plain": [
       "<Figure size 720x504 with 1 Axes>"
      ]
     },
     "metadata": {},
     "output_type": "display_data"
    }
   ],
   "source": [
    "from wordcloud import WordCloud\n",
    "plt.figure(figsize = (10, 7))\n",
    "wordcloud = WordCloud(width=400, height=200, \n",
    "                      background_color = 'white', min_font_size=7).generate_from_frequencies(genres)\n",
    "\n",
    "plt.imshow(wordcloud)\n",
    "plt.axis('off')\n",
    "plt.show()"
   ]
  },
  {
   "cell_type": "markdown",
   "id": "ad867163",
   "metadata": {},
   "source": [
    "### Movies with maximum Ratings"
   ]
  },
  {
   "cell_type": "code",
   "execution_count": 27,
   "id": "9ba7392d",
   "metadata": {},
   "outputs": [
    {
     "data": {
      "text/html": [
       "<div>\n",
       "<style scoped>\n",
       "    .dataframe tbody tr th:only-of-type {\n",
       "        vertical-align: middle;\n",
       "    }\n",
       "\n",
       "    .dataframe tbody tr th {\n",
       "        vertical-align: top;\n",
       "    }\n",
       "\n",
       "    .dataframe thead th {\n",
       "        text-align: right;\n",
       "    }\n",
       "</style>\n",
       "<table border=\"1\" class=\"dataframe\">\n",
       "  <thead>\n",
       "    <tr style=\"text-align: right;\">\n",
       "      <th></th>\n",
       "      <th>mean ratings</th>\n",
       "      <th>total ratings</th>\n",
       "    </tr>\n",
       "    <tr>\n",
       "      <th>title</th>\n",
       "      <th></th>\n",
       "      <th></th>\n",
       "    </tr>\n",
       "  </thead>\n",
       "  <tbody>\n",
       "    <tr>\n",
       "      <th>Forrest Gump (1994)</th>\n",
       "      <td>4.047332</td>\n",
       "      <td>581</td>\n",
       "    </tr>\n",
       "    <tr>\n",
       "      <th>Pulp Fiction (1994)</th>\n",
       "      <td>4.260417</td>\n",
       "      <td>576</td>\n",
       "    </tr>\n",
       "    <tr>\n",
       "      <th>Shawshank Redemption, The (1994)</th>\n",
       "      <td>4.394404</td>\n",
       "      <td>554</td>\n",
       "    </tr>\n",
       "    <tr>\n",
       "      <th>Silence of the Lambs, The (1991)</th>\n",
       "      <td>4.144283</td>\n",
       "      <td>551</td>\n",
       "    </tr>\n",
       "    <tr>\n",
       "      <th>Jurassic Park (1993)</th>\n",
       "      <td>3.647005</td>\n",
       "      <td>551</td>\n",
       "    </tr>\n",
       "    <tr>\n",
       "      <th>Matrix, The (1999)</th>\n",
       "      <td>4.204415</td>\n",
       "      <td>521</td>\n",
       "    </tr>\n",
       "    <tr>\n",
       "      <th>Braveheart (1995)</th>\n",
       "      <td>3.952055</td>\n",
       "      <td>511</td>\n",
       "    </tr>\n",
       "    <tr>\n",
       "      <th>Star Wars: Episode IV - A New Hope (1977)</th>\n",
       "      <td>4.162745</td>\n",
       "      <td>510</td>\n",
       "    </tr>\n",
       "    <tr>\n",
       "      <th>Terminator 2: Judgment Day (1991)</th>\n",
       "      <td>3.957594</td>\n",
       "      <td>507</td>\n",
       "    </tr>\n",
       "    <tr>\n",
       "      <th>Star Wars: Episode V - The Empire Strikes Back (1980)</th>\n",
       "      <td>4.138384</td>\n",
       "      <td>495</td>\n",
       "    </tr>\n",
       "    <tr>\n",
       "      <th>Toy Story (1995)</th>\n",
       "      <td>3.888889</td>\n",
       "      <td>495</td>\n",
       "    </tr>\n",
       "    <tr>\n",
       "      <th>American Beauty (1999)</th>\n",
       "      <td>4.116564</td>\n",
       "      <td>489</td>\n",
       "    </tr>\n",
       "    <tr>\n",
       "      <th>Raiders of the Lost Ark (Indiana Jones and the Raiders of the Lost Ark) (1981)</th>\n",
       "      <td>4.243215</td>\n",
       "      <td>479</td>\n",
       "    </tr>\n",
       "    <tr>\n",
       "      <th>Sixth Sense, The (1999)</th>\n",
       "      <td>4.026096</td>\n",
       "      <td>479</td>\n",
       "    </tr>\n",
       "    <tr>\n",
       "      <th>Star Wars: Episode VI - Return of the Jedi (1983)</th>\n",
       "      <td>3.882353</td>\n",
       "      <td>476</td>\n",
       "    </tr>\n",
       "    <tr>\n",
       "      <th>Usual Suspects, The (1995)</th>\n",
       "      <td>4.287368</td>\n",
       "      <td>475</td>\n",
       "    </tr>\n",
       "    <tr>\n",
       "      <th>Back to the Future (1985)</th>\n",
       "      <td>3.920382</td>\n",
       "      <td>471</td>\n",
       "    </tr>\n",
       "    <tr>\n",
       "      <th>Independence Day (a.k.a. ID4) (1996)</th>\n",
       "      <td>3.248932</td>\n",
       "      <td>468</td>\n",
       "    </tr>\n",
       "    <tr>\n",
       "      <th>Men in Black (a.k.a. MIB) (1997)</th>\n",
       "      <td>3.523605</td>\n",
       "      <td>466</td>\n",
       "    </tr>\n",
       "    <tr>\n",
       "      <th>Fugitive, The (1993)</th>\n",
       "      <td>3.906048</td>\n",
       "      <td>463</td>\n",
       "    </tr>\n",
       "  </tbody>\n",
       "</table>\n",
       "</div>"
      ],
      "text/plain": [
       "                                                    mean ratings  \\\n",
       "title                                                              \n",
       "Forrest Gump (1994)                                     4.047332   \n",
       "Pulp Fiction (1994)                                     4.260417   \n",
       "Shawshank Redemption, The (1994)                        4.394404   \n",
       "Silence of the Lambs, The (1991)                        4.144283   \n",
       "Jurassic Park (1993)                                    3.647005   \n",
       "Matrix, The (1999)                                      4.204415   \n",
       "Braveheart (1995)                                       3.952055   \n",
       "Star Wars: Episode IV - A New Hope (1977)               4.162745   \n",
       "Terminator 2: Judgment Day (1991)                       3.957594   \n",
       "Star Wars: Episode V - The Empire Strikes Back ...      4.138384   \n",
       "Toy Story (1995)                                        3.888889   \n",
       "American Beauty (1999)                                  4.116564   \n",
       "Raiders of the Lost Ark (Indiana Jones and the ...      4.243215   \n",
       "Sixth Sense, The (1999)                                 4.026096   \n",
       "Star Wars: Episode VI - Return of the Jedi (1983)       3.882353   \n",
       "Usual Suspects, The (1995)                              4.287368   \n",
       "Back to the Future (1985)                               3.920382   \n",
       "Independence Day (a.k.a. ID4) (1996)                    3.248932   \n",
       "Men in Black (a.k.a. MIB) (1997)                        3.523605   \n",
       "Fugitive, The (1993)                                    3.906048   \n",
       "\n",
       "                                                    total ratings  \n",
       "title                                                              \n",
       "Forrest Gump (1994)                                           581  \n",
       "Pulp Fiction (1994)                                           576  \n",
       "Shawshank Redemption, The (1994)                              554  \n",
       "Silence of the Lambs, The (1991)                              551  \n",
       "Jurassic Park (1993)                                          551  \n",
       "Matrix, The (1999)                                            521  \n",
       "Braveheart (1995)                                             511  \n",
       "Star Wars: Episode IV - A New Hope (1977)                     510  \n",
       "Terminator 2: Judgment Day (1991)                             507  \n",
       "Star Wars: Episode V - The Empire Strikes Back ...            495  \n",
       "Toy Story (1995)                                              495  \n",
       "American Beauty (1999)                                        489  \n",
       "Raiders of the Lost Ark (Indiana Jones and the ...            479  \n",
       "Sixth Sense, The (1999)                                       479  \n",
       "Star Wars: Episode VI - Return of the Jedi (1983)             476  \n",
       "Usual Suspects, The (1995)                                    475  \n",
       "Back to the Future (1985)                                     471  \n",
       "Independence Day (a.k.a. ID4) (1996)                          468  \n",
       "Men in Black (a.k.a. MIB) (1997)                              466  \n",
       "Fugitive, The (1993)                                          463  "
      ]
     },
     "execution_count": 27,
     "metadata": {},
     "output_type": "execute_result"
    }
   ],
   "source": [
    "top_n_ratings = pd.DataFrame(rating_name.groupby('title')['rating'].mean())\n",
    "top_n_ratings['total ratings'] = pd.DataFrame(rating_name.groupby('title')['rating'].count())\n",
    "top_n_ratings.rename(columns = {'rating': 'mean ratings'}, inplace=True)\n",
    "\n",
    "top_n_ratings.sort_values('total ratings', ascending=False).head(20)"
   ]
  },
  {
   "cell_type": "markdown",
   "id": "9054ae53",
   "metadata": {},
   "source": [
    "### Movies with individual Ratings"
   ]
  },
  {
   "cell_type": "code",
   "execution_count": 28,
   "id": "abddf49b",
   "metadata": {},
   "outputs": [
    {
     "data": {
      "text/html": [
       "<div>\n",
       "<style scoped>\n",
       "    .dataframe tbody tr th:only-of-type {\n",
       "        vertical-align: middle;\n",
       "    }\n",
       "\n",
       "    .dataframe tbody tr th {\n",
       "        vertical-align: top;\n",
       "    }\n",
       "\n",
       "    .dataframe thead th {\n",
       "        text-align: right;\n",
       "    }\n",
       "</style>\n",
       "<table border=\"1\" class=\"dataframe\">\n",
       "  <thead>\n",
       "    <tr style=\"text-align: right;\">\n",
       "      <th></th>\n",
       "      <th>mean ratings</th>\n",
       "      <th>total ratings</th>\n",
       "    </tr>\n",
       "    <tr>\n",
       "      <th>title</th>\n",
       "      <th></th>\n",
       "      <th></th>\n",
       "    </tr>\n",
       "  </thead>\n",
       "  <tbody>\n",
       "    <tr>\n",
       "      <th>Dying of Laughter (Muertos de Risa) (1999)</th>\n",
       "      <td>5.0</td>\n",
       "      <td>1</td>\n",
       "    </tr>\n",
       "    <tr>\n",
       "      <th>24 City (Er shi si cheng ji) (2008)</th>\n",
       "      <td>5.0</td>\n",
       "      <td>1</td>\n",
       "    </tr>\n",
       "    <tr>\n",
       "      <th>Great Happiness Space, The: Tale of an Osaka Love Thief (2006)</th>\n",
       "      <td>5.0</td>\n",
       "      <td>1</td>\n",
       "    </tr>\n",
       "    <tr>\n",
       "      <th>Ween Live in Chicago (2004)</th>\n",
       "      <td>5.0</td>\n",
       "      <td>1</td>\n",
       "    </tr>\n",
       "    <tr>\n",
       "      <th>Forever (2006)</th>\n",
       "      <td>5.0</td>\n",
       "      <td>1</td>\n",
       "    </tr>\n",
       "    <tr>\n",
       "      <th>Play Girl (1941)</th>\n",
       "      <td>5.0</td>\n",
       "      <td>1</td>\n",
       "    </tr>\n",
       "    <tr>\n",
       "      <th>Perifery (Härmä) (2012)</th>\n",
       "      <td>5.0</td>\n",
       "      <td>1</td>\n",
       "    </tr>\n",
       "    <tr>\n",
       "      <th>Sergeant Körmy and the South Pacific (Vääpeli Körmy ja etelän hetelmät) (1992)</th>\n",
       "      <td>5.0</td>\n",
       "      <td>1</td>\n",
       "    </tr>\n",
       "    <tr>\n",
       "      <th>Mood Indigo (L'écume des jours) (2013)</th>\n",
       "      <td>5.0</td>\n",
       "      <td>1</td>\n",
       "    </tr>\n",
       "    <tr>\n",
       "      <th>Smiley's People (1982)</th>\n",
       "      <td>5.0</td>\n",
       "      <td>1</td>\n",
       "    </tr>\n",
       "  </tbody>\n",
       "</table>\n",
       "</div>"
      ],
      "text/plain": [
       "                                                    mean ratings  \\\n",
       "title                                                              \n",
       "Dying of Laughter (Muertos de Risa) (1999)                   5.0   \n",
       "24 City (Er shi si cheng ji) (2008)                          5.0   \n",
       "Great Happiness Space, The: Tale of an Osaka Lo...           5.0   \n",
       "Ween Live in Chicago (2004)                                  5.0   \n",
       "Forever (2006)                                               5.0   \n",
       "Play Girl (1941)                                             5.0   \n",
       "Perifery (Härmä) (2012)                                      5.0   \n",
       "Sergeant Körmy and the South Pacific (Vääpeli K...           5.0   \n",
       "Mood Indigo (L'écume des jours) (2013)                       5.0   \n",
       "Smiley's People (1982)                                       5.0   \n",
       "\n",
       "                                                    total ratings  \n",
       "title                                                              \n",
       "Dying of Laughter (Muertos de Risa) (1999)                      1  \n",
       "24 City (Er shi si cheng ji) (2008)                             1  \n",
       "Great Happiness Space, The: Tale of an Osaka Lo...              1  \n",
       "Ween Live in Chicago (2004)                                     1  \n",
       "Forever (2006)                                                  1  \n",
       "Play Girl (1941)                                                1  \n",
       "Perifery (Härmä) (2012)                                         1  \n",
       "Sergeant Körmy and the South Pacific (Vääpeli K...              1  \n",
       "Mood Indigo (L'écume des jours) (2013)                          1  \n",
       "Smiley's People (1982)                                          1  "
      ]
     },
     "execution_count": 28,
     "metadata": {},
     "output_type": "execute_result"
    }
   ],
   "source": [
    "top_n_ratings.sort_values('mean ratings', ascending=False).head(10)"
   ]
  },
  {
   "cell_type": "code",
   "execution_count": 29,
   "id": "22ee4796",
   "metadata": {},
   "outputs": [
    {
     "name": "stdout",
     "output_type": "stream",
     "text": [
      "Total no of users that gave rating of 5.0 :  145 \n",
      "\n",
      "Total no of Individual users that gave rating of 5.0 :  142\n"
     ]
    }
   ],
   "source": [
    "# Checking the movies with individual rating \n",
    "\n",
    "print('Total no of users that gave rating of 5.0 : ', len(top_n_ratings.loc[top_n_ratings['mean ratings'] == 5]), '\\n')\n",
    "print('Total no of Individual users that gave rating of 5.0 : ', len(top_n_ratings.loc[(top_n_ratings['mean ratings'] == 5) \n",
    "                                                                           & (top_n_ratings['total ratings'] == 1)]))"
   ]
  },
  {
   "cell_type": "code",
   "execution_count": 30,
   "id": "13563647",
   "metadata": {},
   "outputs": [
    {
     "data": {
      "image/png": "[encoded data removed]",
      "text/plain": [
       "<Figure size 936x576 with 1 Axes>"
      ]
     },
     "metadata": {},
     "output_type": "display_data"
    }
   ],
   "source": [
    "plt.figure(figsize=(13,8))\n",
    "sns.distplot(top_n_ratings['mean ratings'], bins=40)\n",
    "plt.xlabel('Mean Ratings')\n",
    "plt.ylabel('Probability')\n",
    "plt.show()"
   ]
  },
  {
   "cell_type": "markdown",
   "id": "4f200cb8",
   "metadata": {},
   "source": [
    "## Model Based Collaborative Filtering"
   ]
  },
  {
   "cell_type": "markdown",
   "id": "e1e940a7",
   "metadata": {},
   "source": [
    "Pivot Table to understand User, Item and Ratings relation "
   ]
  },
  {
   "cell_type": "code",
   "execution_count": 33,
   "id": "b8af1f2f",
   "metadata": {},
   "outputs": [
    {
     "data": {
      "text/html": [
       "<div>\n",
       "<style scoped>\n",
       "    .dataframe tbody tr th:only-of-type {\n",
       "        vertical-align: middle;\n",
       "    }\n",
       "\n",
       "    .dataframe tbody tr th {\n",
       "        vertical-align: top;\n",
       "    }\n",
       "\n",
       "    .dataframe thead th {\n",
       "        text-align: right;\n",
       "    }\n",
       "</style>\n",
       "<table border=\"1\" class=\"dataframe\">\n",
       "  <thead>\n",
       "    <tr style=\"text-align: right;\">\n",
       "      <th>title</th>\n",
       "      <th>$9.99 (2008)</th>\n",
       "      <th>'71 (2014)</th>\n",
       "      <th>'Human' Factor, The (Human Factor, The) (1975)</th>\n",
       "      <th>'Round Midnight (1986)</th>\n",
       "      <th>'Salem's Lot (2004)</th>\n",
       "      <th>'Til There Was You (1997)</th>\n",
       "      <th>'burbs, The (1989)</th>\n",
       "      <th>'night Mother (1986)</th>\n",
       "      <th>(500) Days of Summer (2009)</th>\n",
       "      <th>*batteries not included (1987)</th>\n",
       "      <th>...</th>\n",
       "      <th>eXistenZ (1999)</th>\n",
       "      <th>loudQUIETloud: A Film About the Pixies (2006)</th>\n",
       "      <th>xXx (2002)</th>\n",
       "      <th>xXx: State of the Union (2005)</th>\n",
       "      <th>¡Alambrista! (Illegal, The) (1977)</th>\n",
       "      <th>¡Three Amigos! (1986)</th>\n",
       "      <th>À nos amours (1983)</th>\n",
       "      <th>À nous la liberté (Freedom for Us) (1931)</th>\n",
       "      <th>À propos de Nice (1930)</th>\n",
       "      <th>Árido Movie (2005)</th>\n",
       "    </tr>\n",
       "    <tr>\n",
       "      <th>userId</th>\n",
       "      <th></th>\n",
       "      <th></th>\n",
       "      <th></th>\n",
       "      <th></th>\n",
       "      <th></th>\n",
       "      <th></th>\n",
       "      <th></th>\n",
       "      <th></th>\n",
       "      <th></th>\n",
       "      <th></th>\n",
       "      <th></th>\n",
       "      <th></th>\n",
       "      <th></th>\n",
       "      <th></th>\n",
       "      <th></th>\n",
       "      <th></th>\n",
       "      <th></th>\n",
       "      <th></th>\n",
       "      <th></th>\n",
       "      <th></th>\n",
       "      <th></th>\n",
       "    </tr>\n",
       "  </thead>\n",
       "  <tbody>\n",
       "    <tr>\n",
       "      <th>22</th>\n",
       "      <td>NaN</td>\n",
       "      <td>NaN</td>\n",
       "      <td>NaN</td>\n",
       "      <td>NaN</td>\n",
       "      <td>NaN</td>\n",
       "      <td>NaN</td>\n",
       "      <td>NaN</td>\n",
       "      <td>NaN</td>\n",
       "      <td>NaN</td>\n",
       "      <td>NaN</td>\n",
       "      <td>...</td>\n",
       "      <td>NaN</td>\n",
       "      <td>NaN</td>\n",
       "      <td>NaN</td>\n",
       "      <td>NaN</td>\n",
       "      <td>NaN</td>\n",
       "      <td>NaN</td>\n",
       "      <td>NaN</td>\n",
       "      <td>NaN</td>\n",
       "      <td>NaN</td>\n",
       "      <td>NaN</td>\n",
       "    </tr>\n",
       "    <tr>\n",
       "      <th>72</th>\n",
       "      <td>NaN</td>\n",
       "      <td>NaN</td>\n",
       "      <td>NaN</td>\n",
       "      <td>NaN</td>\n",
       "      <td>NaN</td>\n",
       "      <td>NaN</td>\n",
       "      <td>NaN</td>\n",
       "      <td>NaN</td>\n",
       "      <td>NaN</td>\n",
       "      <td>NaN</td>\n",
       "      <td>...</td>\n",
       "      <td>NaN</td>\n",
       "      <td>NaN</td>\n",
       "      <td>NaN</td>\n",
       "      <td>NaN</td>\n",
       "      <td>NaN</td>\n",
       "      <td>NaN</td>\n",
       "      <td>NaN</td>\n",
       "      <td>NaN</td>\n",
       "      <td>NaN</td>\n",
       "      <td>NaN</td>\n",
       "    </tr>\n",
       "    <tr>\n",
       "      <th>77</th>\n",
       "      <td>NaN</td>\n",
       "      <td>NaN</td>\n",
       "      <td>NaN</td>\n",
       "      <td>NaN</td>\n",
       "      <td>NaN</td>\n",
       "      <td>NaN</td>\n",
       "      <td>NaN</td>\n",
       "      <td>NaN</td>\n",
       "      <td>NaN</td>\n",
       "      <td>NaN</td>\n",
       "      <td>...</td>\n",
       "      <td>NaN</td>\n",
       "      <td>NaN</td>\n",
       "      <td>NaN</td>\n",
       "      <td>NaN</td>\n",
       "      <td>NaN</td>\n",
       "      <td>NaN</td>\n",
       "      <td>NaN</td>\n",
       "      <td>NaN</td>\n",
       "      <td>NaN</td>\n",
       "      <td>NaN</td>\n",
       "    </tr>\n",
       "    <tr>\n",
       "      <th>295</th>\n",
       "      <td>NaN</td>\n",
       "      <td>NaN</td>\n",
       "      <td>NaN</td>\n",
       "      <td>NaN</td>\n",
       "      <td>NaN</td>\n",
       "      <td>NaN</td>\n",
       "      <td>NaN</td>\n",
       "      <td>NaN</td>\n",
       "      <td>NaN</td>\n",
       "      <td>NaN</td>\n",
       "      <td>...</td>\n",
       "      <td>NaN</td>\n",
       "      <td>NaN</td>\n",
       "      <td>NaN</td>\n",
       "      <td>NaN</td>\n",
       "      <td>NaN</td>\n",
       "      <td>NaN</td>\n",
       "      <td>NaN</td>\n",
       "      <td>NaN</td>\n",
       "      <td>NaN</td>\n",
       "      <td>NaN</td>\n",
       "    </tr>\n",
       "    <tr>\n",
       "      <th>377</th>\n",
       "      <td>NaN</td>\n",
       "      <td>NaN</td>\n",
       "      <td>NaN</td>\n",
       "      <td>NaN</td>\n",
       "      <td>NaN</td>\n",
       "      <td>NaN</td>\n",
       "      <td>NaN</td>\n",
       "      <td>NaN</td>\n",
       "      <td>NaN</td>\n",
       "      <td>NaN</td>\n",
       "      <td>...</td>\n",
       "      <td>NaN</td>\n",
       "      <td>NaN</td>\n",
       "      <td>NaN</td>\n",
       "      <td>NaN</td>\n",
       "      <td>NaN</td>\n",
       "      <td>NaN</td>\n",
       "      <td>NaN</td>\n",
       "      <td>NaN</td>\n",
       "      <td>NaN</td>\n",
       "      <td>NaN</td>\n",
       "    </tr>\n",
       "    <tr>\n",
       "      <th>...</th>\n",
       "      <td>...</td>\n",
       "      <td>...</td>\n",
       "      <td>...</td>\n",
       "      <td>...</td>\n",
       "      <td>...</td>\n",
       "      <td>...</td>\n",
       "      <td>...</td>\n",
       "      <td>...</td>\n",
       "      <td>...</td>\n",
       "      <td>...</td>\n",
       "      <td>...</td>\n",
       "      <td>...</td>\n",
       "      <td>...</td>\n",
       "      <td>...</td>\n",
       "      <td>...</td>\n",
       "      <td>...</td>\n",
       "      <td>...</td>\n",
       "      <td>...</td>\n",
       "      <td>...</td>\n",
       "      <td>...</td>\n",
       "      <td>...</td>\n",
       "    </tr>\n",
       "    <tr>\n",
       "      <th>137121</th>\n",
       "      <td>NaN</td>\n",
       "      <td>NaN</td>\n",
       "      <td>NaN</td>\n",
       "      <td>NaN</td>\n",
       "      <td>NaN</td>\n",
       "      <td>NaN</td>\n",
       "      <td>NaN</td>\n",
       "      <td>NaN</td>\n",
       "      <td>NaN</td>\n",
       "      <td>NaN</td>\n",
       "      <td>...</td>\n",
       "      <td>NaN</td>\n",
       "      <td>NaN</td>\n",
       "      <td>NaN</td>\n",
       "      <td>NaN</td>\n",
       "      <td>NaN</td>\n",
       "      <td>NaN</td>\n",
       "      <td>NaN</td>\n",
       "      <td>NaN</td>\n",
       "      <td>NaN</td>\n",
       "      <td>NaN</td>\n",
       "    </tr>\n",
       "    <tr>\n",
       "      <th>137280</th>\n",
       "      <td>NaN</td>\n",
       "      <td>NaN</td>\n",
       "      <td>NaN</td>\n",
       "      <td>NaN</td>\n",
       "      <td>NaN</td>\n",
       "      <td>NaN</td>\n",
       "      <td>NaN</td>\n",
       "      <td>NaN</td>\n",
       "      <td>NaN</td>\n",
       "      <td>NaN</td>\n",
       "      <td>...</td>\n",
       "      <td>NaN</td>\n",
       "      <td>NaN</td>\n",
       "      <td>NaN</td>\n",
       "      <td>NaN</td>\n",
       "      <td>NaN</td>\n",
       "      <td>NaN</td>\n",
       "      <td>NaN</td>\n",
       "      <td>NaN</td>\n",
       "      <td>NaN</td>\n",
       "      <td>NaN</td>\n",
       "    </tr>\n",
       "    <tr>\n",
       "      <th>137780</th>\n",
       "      <td>NaN</td>\n",
       "      <td>NaN</td>\n",
       "      <td>NaN</td>\n",
       "      <td>NaN</td>\n",
       "      <td>NaN</td>\n",
       "      <td>NaN</td>\n",
       "      <td>NaN</td>\n",
       "      <td>NaN</td>\n",
       "      <td>NaN</td>\n",
       "      <td>NaN</td>\n",
       "      <td>...</td>\n",
       "      <td>NaN</td>\n",
       "      <td>NaN</td>\n",
       "      <td>NaN</td>\n",
       "      <td>NaN</td>\n",
       "      <td>NaN</td>\n",
       "      <td>NaN</td>\n",
       "      <td>NaN</td>\n",
       "      <td>NaN</td>\n",
       "      <td>NaN</td>\n",
       "      <td>NaN</td>\n",
       "    </tr>\n",
       "    <tr>\n",
       "      <th>138148</th>\n",
       "      <td>NaN</td>\n",
       "      <td>NaN</td>\n",
       "      <td>NaN</td>\n",
       "      <td>NaN</td>\n",
       "      <td>NaN</td>\n",
       "      <td>NaN</td>\n",
       "      <td>NaN</td>\n",
       "      <td>NaN</td>\n",
       "      <td>NaN</td>\n",
       "      <td>NaN</td>\n",
       "      <td>...</td>\n",
       "      <td>NaN</td>\n",
       "      <td>NaN</td>\n",
       "      <td>NaN</td>\n",
       "      <td>NaN</td>\n",
       "      <td>NaN</td>\n",
       "      <td>NaN</td>\n",
       "      <td>NaN</td>\n",
       "      <td>NaN</td>\n",
       "      <td>NaN</td>\n",
       "      <td>NaN</td>\n",
       "    </tr>\n",
       "    <tr>\n",
       "      <th>138325</th>\n",
       "      <td>NaN</td>\n",
       "      <td>NaN</td>\n",
       "      <td>NaN</td>\n",
       "      <td>NaN</td>\n",
       "      <td>NaN</td>\n",
       "      <td>NaN</td>\n",
       "      <td>NaN</td>\n",
       "      <td>NaN</td>\n",
       "      <td>NaN</td>\n",
       "      <td>NaN</td>\n",
       "      <td>...</td>\n",
       "      <td>NaN</td>\n",
       "      <td>NaN</td>\n",
       "      <td>NaN</td>\n",
       "      <td>NaN</td>\n",
       "      <td>NaN</td>\n",
       "      <td>NaN</td>\n",
       "      <td>NaN</td>\n",
       "      <td>4.5</td>\n",
       "      <td>NaN</td>\n",
       "      <td>NaN</td>\n",
       "    </tr>\n",
       "  </tbody>\n",
       "</table>\n",
       "<p>790 rows × 16018 columns</p>\n",
       "</div>"
      ],
      "text/plain": [
       "title   $9.99 (2008)  '71 (2014)  \\\n",
       "userId                             \n",
       "22               NaN         NaN   \n",
       "72               NaN         NaN   \n",
       "77               NaN         NaN   \n",
       "295              NaN         NaN   \n",
       "377              NaN         NaN   \n",
       "...              ...         ...   \n",
       "137121           NaN         NaN   \n",
       "137280           NaN         NaN   \n",
       "137780           NaN         NaN   \n",
       "138148           NaN         NaN   \n",
       "138325           NaN         NaN   \n",
       "\n",
       "title   'Human' Factor, The (Human Factor, The) (1975)  \\\n",
       "userId                                                   \n",
       "22                                                 NaN   \n",
       "72                                                 NaN   \n",
       "77                                                 NaN   \n",
       "295                                                NaN   \n",
       "377                                                NaN   \n",
       "...                                                ...   \n",
       "137121                                             NaN   \n",
       "137280                                             NaN   \n",
       "137780                                             NaN   \n",
       "138148                                             NaN   \n",
       "138325                                             NaN   \n",
       "\n",
       "title   'Round Midnight (1986)  'Salem's Lot (2004)  \\\n",
       "userId                                                \n",
       "22                         NaN                  NaN   \n",
       "72                         NaN                  NaN   \n",
       "77                         NaN                  NaN   \n",
       "295                        NaN                  NaN   \n",
       "377                        NaN                  NaN   \n",
       "...                        ...                  ...   \n",
       "137121                     NaN                  NaN   \n",
       "137280                     NaN                  NaN   \n",
       "137780                     NaN                  NaN   \n",
       "138148                     NaN                  NaN   \n",
       "138325                     NaN                  NaN   \n",
       "\n",
       "title   'Til There Was You (1997)  'burbs, The (1989)  'night Mother (1986)  \\\n",
       "userId                                                                        \n",
       "22                            NaN                 NaN                   NaN   \n",
       "72                            NaN                 NaN                   NaN   \n",
       "77                            NaN                 NaN                   NaN   \n",
       "295                           NaN                 NaN                   NaN   \n",
       "377                           NaN                 NaN                   NaN   \n",
       "...                           ...                 ...                   ...   \n",
       "137121                        NaN                 NaN                   NaN   \n",
       "137280                        NaN                 NaN                   NaN   \n",
       "137780                        NaN                 NaN                   NaN   \n",
       "138148                        NaN                 NaN                   NaN   \n",
       "138325                        NaN                 NaN                   NaN   \n",
       "\n",
       "title   (500) Days of Summer (2009)  *batteries not included (1987)  ...  \\\n",
       "userId                                                               ...   \n",
       "22                              NaN                             NaN  ...   \n",
       "72                              NaN                             NaN  ...   \n",
       "77                              NaN                             NaN  ...   \n",
       "295                             NaN                             NaN  ...   \n",
       "377                             NaN                             NaN  ...   \n",
       "...                             ...                             ...  ...   \n",
       "137121                          NaN                             NaN  ...   \n",
       "137280                          NaN                             NaN  ...   \n",
       "137780                          NaN                             NaN  ...   \n",
       "138148                          NaN                             NaN  ...   \n",
       "138325                          NaN                             NaN  ...   \n",
       "\n",
       "title   eXistenZ (1999)  loudQUIETloud: A Film About the Pixies (2006)  \\\n",
       "userId                                                                   \n",
       "22                  NaN                                            NaN   \n",
       "72                  NaN                                            NaN   \n",
       "77                  NaN                                            NaN   \n",
       "295                 NaN                                            NaN   \n",
       "377                 NaN                                            NaN   \n",
       "...                 ...                                            ...   \n",
       "137121              NaN                                            NaN   \n",
       "137280              NaN                                            NaN   \n",
       "137780              NaN                                            NaN   \n",
       "138148              NaN                                            NaN   \n",
       "138325              NaN                                            NaN   \n",
       "\n",
       "title   xXx (2002)  xXx: State of the Union (2005)  \\\n",
       "userId                                               \n",
       "22             NaN                             NaN   \n",
       "72             NaN                             NaN   \n",
       "77             NaN                             NaN   \n",
       "295            NaN                             NaN   \n",
       "377            NaN                             NaN   \n",
       "...            ...                             ...   \n",
       "137121         NaN                             NaN   \n",
       "137280         NaN                             NaN   \n",
       "137780         NaN                             NaN   \n",
       "138148         NaN                             NaN   \n",
       "138325         NaN                             NaN   \n",
       "\n",
       "title   ¡Alambrista! (Illegal, The) (1977)  ¡Three Amigos! (1986)  \\\n",
       "userId                                                              \n",
       "22                                     NaN                    NaN   \n",
       "72                                     NaN                    NaN   \n",
       "77                                     NaN                    NaN   \n",
       "295                                    NaN                    NaN   \n",
       "377                                    NaN                    NaN   \n",
       "...                                    ...                    ...   \n",
       "137121                                 NaN                    NaN   \n",
       "137280                                 NaN                    NaN   \n",
       "137780                                 NaN                    NaN   \n",
       "138148                                 NaN                    NaN   \n",
       "138325                                 NaN                    NaN   \n",
       "\n",
       "title   À nos amours (1983)  À nous la liberté (Freedom for Us) (1931)  \\\n",
       "userId                                                                   \n",
       "22                      NaN                                        NaN   \n",
       "72                      NaN                                        NaN   \n",
       "77                      NaN                                        NaN   \n",
       "295                     NaN                                        NaN   \n",
       "377                     NaN                                        NaN   \n",
       "...                     ...                                        ...   \n",
       "137121                  NaN                                        NaN   \n",
       "137280                  NaN                                        NaN   \n",
       "137780                  NaN                                        NaN   \n",
       "138148                  NaN                                        NaN   \n",
       "138325                  NaN                                        4.5   \n",
       "\n",
       "title   À propos de Nice (1930)  Árido Movie (2005)  \n",
       "userId                                               \n",
       "22                          NaN                 NaN  \n",
       "72                          NaN                 NaN  \n",
       "77                          NaN                 NaN  \n",
       "295                         NaN                 NaN  \n",
       "377                         NaN                 NaN  \n",
       "...                         ...                 ...  \n",
       "137121                      NaN                 NaN  \n",
       "137280                      NaN                 NaN  \n",
       "137780                      NaN                 NaN  \n",
       "138148                      NaN                 NaN  \n",
       "138325                      NaN                 NaN  \n",
       "\n",
       "[790 rows x 16018 columns]"
      ]
     },
     "execution_count": 33,
     "metadata": {},
     "output_type": "execute_result"
    }
   ],
   "source": [
    "pd.pivot_table(rating_name, values='rating', index='userId', columns='title')"
   ]
  },
  {
   "cell_type": "markdown",
   "id": "788d41df",
   "metadata": {},
   "source": [
    "## Libraries for Model"
   ]
  },
  {
   "cell_type": "code",
   "execution_count": 39,
   "id": "0578ac13",
   "metadata": {},
   "outputs": [],
   "source": [
    "from keras.layers import Embedding, Input, dot, concatenate\n",
    "from keras.models import Model\n",
    "from IPython.display import SVG\n",
    "from keras.utils.vis_utils import model_to_dot"
   ]
  },
  {
   "cell_type": "markdown",
   "id": "c7f65983",
   "metadata": {},
   "source": [
    "### Spliting Data"
   ]
  },
  {
   "cell_type": "code",
   "execution_count": 40,
   "id": "2b51eb60",
   "metadata": {},
   "outputs": [],
   "source": [
    "X = movie_rating.iloc[:,:2]\n",
    "Y = movie_rating.iloc[:,2]\n",
    "\n",
    "x_train, x_test, y_train, y_test = train_test_split(X, Y, test_size = 0.2, random_state = 66)"
   ]
  },
  {
   "cell_type": "code",
   "execution_count": 41,
   "id": "cbeb687a",
   "metadata": {},
   "outputs": [],
   "source": [
    "# The number of latent factors for the embedding\n",
    "n_latent_factors = 50\n",
    "\n",
    "# no of users and movies\n",
    "n_users, n_movies = len(movie_rating['userId'].unique()), len(movie_rating['movieId'].unique()) "
   ]
  },
  {
   "cell_type": "markdown",
   "id": "ee75d7aa",
   "metadata": {},
   "source": [
    "### Model Architecture"
   ]
  },
  {
   "cell_type": "code",
   "execution_count": 42,
   "id": "6049fa56",
   "metadata": {},
   "outputs": [
    {
     "name": "stderr",
     "output_type": "stream",
     "text": [
      "2022-07-14 18:37:42.573212: I tensorflow/stream_executor/cuda/cuda_gpu_executor.cc:975] successful NUMA node read from SysFS had negative value (-1), but there must be at least one NUMA node, so returning NUMA node zero\n",
      "2022-07-14 18:37:42.573486: I tensorflow/stream_executor/cuda/cuda_gpu_executor.cc:975] successful NUMA node read from SysFS had negative value (-1), but there must be at least one NUMA node, so returning NUMA node zero\n",
      "2022-07-14 18:37:42.610446: I tensorflow/stream_executor/cuda/cuda_gpu_executor.cc:975] successful NUMA node read from SysFS had negative value (-1), but there must be at least one NUMA node, so returning NUMA node zero\n",
      "2022-07-14 18:37:42.610720: I tensorflow/stream_executor/cuda/cuda_gpu_executor.cc:975] successful NUMA node read from SysFS had negative value (-1), but there must be at least one NUMA node, so returning NUMA node zero\n",
      "2022-07-14 18:37:42.610934: I tensorflow/stream_executor/cuda/cuda_gpu_executor.cc:975] successful NUMA node read from SysFS had negative value (-1), but there must be at least one NUMA node, so returning NUMA node zero\n",
      "2022-07-14 18:37:42.611139: I tensorflow/stream_executor/cuda/cuda_gpu_executor.cc:975] successful NUMA node read from SysFS had negative value (-1), but there must be at least one NUMA node, so returning NUMA node zero\n",
      "2022-07-14 18:37:42.611760: I tensorflow/core/platform/cpu_feature_guard.cc:193] This TensorFlow binary is optimized with oneAPI Deep Neural Network Library (oneDNN) to use the following CPU instructions in performance-critical operations:  AVX2 FMA\n",
      "To enable them in other operations, rebuild TensorFlow with the appropriate compiler flags.\n",
      "2022-07-14 18:37:42.781331: I tensorflow/stream_executor/cuda/cuda_gpu_executor.cc:975] successful NUMA node read from SysFS had negative value (-1), but there must be at least one NUMA node, so returning NUMA node zero\n",
      "2022-07-14 18:37:42.781586: I tensorflow/stream_executor/cuda/cuda_gpu_executor.cc:975] successful NUMA node read from SysFS had negative value (-1), but there must be at least one NUMA node, so returning NUMA node zero\n",
      "2022-07-14 18:37:42.781791: I tensorflow/stream_executor/cuda/cuda_gpu_executor.cc:975] successful NUMA node read from SysFS had negative value (-1), but there must be at least one NUMA node, so returning NUMA node zero\n",
      "2022-07-14 18:37:42.781999: I tensorflow/stream_executor/cuda/cuda_gpu_executor.cc:975] successful NUMA node read from SysFS had negative value (-1), but there must be at least one NUMA node, so returning NUMA node zero\n",
      "2022-07-14 18:37:42.782193: I tensorflow/stream_executor/cuda/cuda_gpu_executor.cc:975] successful NUMA node read from SysFS had negative value (-1), but there must be at least one NUMA node, so returning NUMA node zero\n",
      "2022-07-14 18:37:42.782383: I tensorflow/stream_executor/cuda/cuda_gpu_executor.cc:975] successful NUMA node read from SysFS had negative value (-1), but there must be at least one NUMA node, so returning NUMA node zero\n",
      "2022-07-14 18:37:43.632650: I tensorflow/stream_executor/cuda/cuda_gpu_executor.cc:975] successful NUMA node read from SysFS had negative value (-1), but there must be at least one NUMA node, so returning NUMA node zero\n",
      "2022-07-14 18:37:43.632939: I tensorflow/stream_executor/cuda/cuda_gpu_executor.cc:975] successful NUMA node read from SysFS had negative value (-1), but there must be at least one NUMA node, so returning NUMA node zero\n",
      "2022-07-14 18:37:43.633147: I tensorflow/stream_executor/cuda/cuda_gpu_executor.cc:975] successful NUMA node read from SysFS had negative value (-1), but there must be at least one NUMA node, so returning NUMA node zero\n",
      "2022-07-14 18:37:43.633353: I tensorflow/stream_executor/cuda/cuda_gpu_executor.cc:975] successful NUMA node read from SysFS had negative value (-1), but there must be at least one NUMA node, so returning NUMA node zero\n",
      "2022-07-14 18:37:43.633553: I tensorflow/stream_executor/cuda/cuda_gpu_executor.cc:975] successful NUMA node read from SysFS had negative value (-1), but there must be at least one NUMA node, so returning NUMA node zero\n",
      "2022-07-14 18:37:43.633717: I tensorflow/core/common_runtime/gpu/gpu_device.cc:1532] Created device /job:localhost/replica:0/task:0/device:GPU:0 with 6278 MB memory:  -> device: 0, name: NVIDIA GeForce RTX 2080 SUPER, pci bus id: 0000:01:00.0, compute capability: 7.5\n",
      "2022-07-14 18:37:43.634088: I tensorflow/stream_executor/cuda/cuda_gpu_executor.cc:975] successful NUMA node read from SysFS had negative value (-1), but there must be at least one NUMA node, so returning NUMA node zero\n",
      "2022-07-14 18:37:43.634246: I tensorflow/core/common_runtime/gpu/gpu_device.cc:1532] Created device /job:localhost/replica:0/task:0/device:GPU:1 with 6641 MB memory:  -> device: 1, name: NVIDIA GeForce RTX 2080 SUPER, pci bus id: 0000:02:00.0, compute capability: 7.5\n"
     ]
    }
   ],
   "source": [
    "# User Embeddings\n",
    "user_input = Input(shape=(1,), name='User_Input')\n",
    "user_embeddings = Embedding(input_dim = n_users, output_dim=n_latent_factors, input_length=1, \n",
    "                              name='User_Embedding') (user_input)\n",
    "user_vector = Flatten(name='User_Vector') (user_embeddings)\n",
    "\n",
    "\n",
    "# Movie Embeddings\n",
    "movie_input = Input(shape=(1,), name='Movie_Input')\n",
    "movie_embeddings = Embedding(input_dim = n_movies, output_dim=n_latent_factors, input_length=1, \n",
    "                               name='Movie_Embedding') (movie_input)\n",
    "movie_vector = Flatten(name='Movie_Vector') (movie_embeddings)\n",
    "\n",
    "\n",
    "# Dot Product\n",
    "merged_vectors = dot([user_vector, movie_vector], name='Dot_Product', axes=1)\n",
    "model = Model([user_input, movie_input], merged_vectors)"
   ]
  },
  {
   "cell_type": "code",
   "execution_count": 90,
   "id": "3aa82884",
   "metadata": {},
   "outputs": [],
   "source": [
    "# SVG(model_to_dot( model,  show_shapes=True, show_layer_names=True).create(prog='dot', format='svg'))"
   ]
  },
  {
   "cell_type": "code",
   "execution_count": 80,
   "id": "8f307a2e",
   "metadata": {},
   "outputs": [
    {
     "name": "stdout",
     "output_type": "stream",
     "text": [
      "Model: \"model_2\"\n",
      "__________________________________________________________________________________________________\n",
      " Layer (type)                   Output Shape         Param #     Connected to                     \n",
      "==================================================================================================\n",
      " User_Input (InputLayer)        [(None, 1)]          0           []                               \n",
      "                                                                                                  \n",
      " Movie_Input (InputLayer)       [(None, 1)]          0           []                               \n",
      "                                                                                                  \n",
      " User_Embedding (Embedding)     (None, 1, 50)        6924650     ['User_Input[0][0]']             \n",
      "                                                                                                  \n",
      " Movie_Embedding (Embedding)    (None, 1, 50)        1337200     ['Movie_Input[0][0]']            \n",
      "                                                                                                  \n",
      " User_Vector (Flatten)          (None, 50)           0           ['User_Embedding[0][0]']         \n",
      "                                                                                                  \n",
      " Movie_Vector (Flatten)         (None, 50)           0           ['Movie_Embedding[0][0]']        \n",
      "                                                                                                  \n",
      " Concantenate (Concatenate)     (None, 100)          0           ['User_Vector[0][0]',            \n",
      "                                                                  'Movie_Vector[0][0]']           \n",
      "                                                                                                  \n",
      " dense_2 (Dense)                (None, 100)          10100       ['Concantenate[0][0]']           \n",
      "                                                                                                  \n",
      " dense_3 (Dense)                (None, 1)            101         ['dense_2[0][0]']                \n",
      "                                                                                                  \n",
      "==================================================================================================\n",
      "Total params: 8,272,051\n",
      "Trainable params: 8,272,051\n",
      "Non-trainable params: 0\n",
      "__________________________________________________________________________________________________\n"
     ]
    }
   ],
   "source": [
    "model.summary()"
   ]
  },
  {
   "cell_type": "markdown",
   "id": "80c0541d",
   "metadata": {},
   "source": [
    "### Model Compilation"
   ]
  },
  {
   "cell_type": "code",
   "execution_count": 45,
   "id": "ad3aa73e",
   "metadata": {},
   "outputs": [],
   "source": [
    "optimizer = Adam(lr = 0.0005)\n",
    "\n",
    "model.compile(loss='mean_squared_error', optimizer = optimizer)"
   ]
  },
  {
   "cell_type": "code",
   "execution_count": 46,
   "id": "d744850e",
   "metadata": {},
   "outputs": [],
   "source": [
    "batch_size = 128\n",
    "epochs = 20"
   ]
  },
  {
   "cell_type": "markdown",
   "id": "a4496496",
   "metadata": {},
   "source": [
    "### Training Model Architechture 1"
   ]
  },
  {
   "cell_type": "code",
   "execution_count": 47,
   "id": "b9be432e",
   "metadata": {},
   "outputs": [
    {
     "name": "stdout",
     "output_type": "stream",
     "text": [
      "Epoch 1/20\n",
      "125002/125002 - 508s - loss: 3.2677 - val_loss: 2.2628 - 508s/epoch - 4ms/step\n",
      "Epoch 2/20\n",
      "125002/125002 - 517s - loss: 2.2162 - val_loss: 2.1878 - 517s/epoch - 4ms/step\n",
      "Epoch 3/20\n",
      "125002/125002 - 562s - loss: 2.1404 - val_loss: 2.1520 - 562s/epoch - 4ms/step\n",
      "Epoch 4/20\n",
      "125002/125002 - 526s - loss: 2.0830 - val_loss: 2.1402 - 526s/epoch - 4ms/step\n",
      "Epoch 5/20\n",
      "125002/125002 - 615s - loss: 2.0380 - val_loss: 2.1413 - 615s/epoch - 5ms/step\n",
      "Epoch 6/20\n",
      "125002/125002 - 565s - loss: 2.0058 - val_loss: 2.1487 - 565s/epoch - 5ms/step\n",
      "Epoch 7/20\n",
      "125002/125002 - 528s - loss: 1.9835 - val_loss: 2.1572 - 528s/epoch - 4ms/step\n",
      "Epoch 8/20\n",
      "125002/125002 - 572s - loss: 1.9674 - val_loss: 2.1655 - 572s/epoch - 5ms/step\n",
      "Epoch 9/20\n",
      "125002/125002 - 543s - loss: 1.9555 - val_loss: 2.1731 - 543s/epoch - 4ms/step\n",
      "Epoch 10/20\n",
      "125002/125002 - 510s - loss: 1.9462 - val_loss: 2.1803 - 510s/epoch - 4ms/step\n",
      "Epoch 11/20\n",
      "125002/125002 - 508s - loss: 1.9390 - val_loss: 2.1866 - 508s/epoch - 4ms/step\n",
      "Epoch 12/20\n",
      "125002/125002 - 511s - loss: 1.9330 - val_loss: 2.1927 - 511s/epoch - 4ms/step\n",
      "Epoch 13/20\n",
      "125002/125002 - 511s - loss: 1.9281 - val_loss: 2.1985 - 511s/epoch - 4ms/step\n",
      "Epoch 14/20\n",
      "125002/125002 - 513s - loss: 1.9240 - val_loss: 2.2045 - 513s/epoch - 4ms/step\n",
      "Epoch 15/20\n",
      "125002/125002 - 526s - loss: 1.9205 - val_loss: 2.2098 - 526s/epoch - 4ms/step\n",
      "Epoch 16/20\n",
      "125002/125002 - 572s - loss: 1.9174 - val_loss: 2.2149 - 572s/epoch - 5ms/step\n",
      "Epoch 17/20\n",
      "125002/125002 - 540s - loss: 1.9147 - val_loss: 2.2198 - 540s/epoch - 4ms/step\n",
      "Epoch 18/20\n",
      "125002/125002 - 510s - loss: 1.9125 - val_loss: 2.2242 - 510s/epoch - 4ms/step\n",
      "Epoch 19/20\n",
      "125002/125002 - 537s - loss: 1.9104 - val_loss: 2.2278 - 537s/epoch - 4ms/step\n",
      "Epoch 20/20\n",
      "125002/125002 - 506s - loss: 1.9087 - val_loss: 2.2322 - 506s/epoch - 4ms/step\n"
     ]
    }
   ],
   "source": [
    "history = model.fit(x=[x_train['userId'], x_train['movieId']], y=y_train, batch_size= batch_size, epochs=epochs, \n",
    "                    verbose= 2, validation_data=([x_test['userId'], x_test['movieId']], y_test))"
   ]
  },
  {
   "cell_type": "code",
   "execution_count": 48,
   "id": "583542aa",
   "metadata": {},
   "outputs": [
    {
     "data": {
      "image/png": "[encoded data removed]",
      "text/plain": [
       "<Figure size 576x288 with 1 Axes>"
      ]
     },
     "metadata": {},
     "output_type": "display_data"
    }
   ],
   "source": [
    "# Get training and test loss histories\n",
    "training_loss = history.history['loss']\n",
    "test_loss = history.history['val_loss']\n",
    "\n",
    "# Create count of the number of epochs\n",
    "epoch_count = range(1, len(training_loss) + 1)\n",
    "\n",
    "# Visualize loss history\n",
    "plt.figure(figsize = (8,4))\n",
    "plt.plot(epoch_count, training_loss, 'r--')\n",
    "plt.plot(epoch_count, test_loss, 'b-')\n",
    "plt.legend(['Training Loss', 'Test Loss'])\n",
    "plt.xlabel('Epoch')\n",
    "plt.ylabel('Loss')\n",
    "plt.show()"
   ]
  },
  {
   "cell_type": "markdown",
   "id": "ab4ab5db",
   "metadata": {},
   "source": [
    "### Saving Model Architechture 1"
   ]
  },
  {
   "cell_type": "code",
   "execution_count": 58,
   "id": "b1b6f257",
   "metadata": {},
   "outputs": [],
   "source": [
    "model.save(\"history.h5\")"
   ]
  },
  {
   "cell_type": "markdown",
   "id": "4ccc45fa",
   "metadata": {},
   "source": [
    "### Evaluating Model"
   ]
  },
  {
   "cell_type": "code",
   "execution_count": 49,
   "id": "37695c40",
   "metadata": {},
   "outputs": [
    {
     "name": "stdout",
     "output_type": "stream",
     "text": [
      "125002/125002 [==============================] - 225s 2ms/step - loss: 2.2322\n",
      "\n",
      "RMSE: 1.4941\n"
     ]
    }
   ],
   "source": [
    "score = model.evaluate([x_test['userId'], x_test['movieId']], y_test)\n",
    "print()\n",
    "print('RMSE: {:.4f}'.format(np.sqrt(score)))"
   ]
  },
  {
   "cell_type": "markdown",
   "id": "b11dbb68",
   "metadata": {},
   "source": [
    "## Model 2"
   ]
  },
  {
   "cell_type": "markdown",
   "id": "bd48a256",
   "metadata": {},
   "source": [
    "### Model Architecture 2"
   ]
  },
  {
   "cell_type": "code",
   "execution_count": 59,
   "id": "c9df38bc",
   "metadata": {},
   "outputs": [],
   "source": [
    "# User Embeddings\n",
    "user_input = Input(shape=(1,), name='User_Input')\n",
    "user_embeddings = Embedding(input_dim = n_users, output_dim=n_latent_factors, input_length=1, \n",
    "                              name='User_Embedding') (user_input)\n",
    "user_vector = Flatten(name='User_Vector') (user_embeddings)\n",
    "\n",
    "\n",
    "\n",
    "# Movie Embeddings\n",
    "movie_input = Input(shape=(1,), name='Movie_Input')\n",
    "movie_embeddings = Embedding(input_dim = n_movies, output_dim=n_latent_factors, input_length=1, \n",
    "                               name='Movie_Embedding') (movie_input)\n",
    "movie_vector = Flatten(name='Movie_Vector') (movie_embeddings)\n",
    "\n",
    "\n",
    "\n",
    "\n",
    "# Concatenate Product\n",
    "merged_vectors = concatenate([user_vector, movie_vector], name='Concantenate')\n",
    "dense_layer_1 = Dense(100, activation='relu')(merged_vectors) \n",
    "# dense_layer_1 = Dropout(0.25) (dense_layer_1)\n",
    "# batchnorm_layer_1 = BatchNormalization()(dense_layer_1)\n",
    "# dense_layer_2 = Dense(64, activation='relu')(merged_vectors)\n",
    "\n",
    "\n",
    "result = Dense(1)(dense_layer_1)\n",
    "model = Model([user_input, movie_input], result)"
   ]
  },
  {
   "cell_type": "code",
   "execution_count": 60,
   "id": "a29c833f",
   "metadata": {},
   "outputs": [],
   "source": [
    "# SVG(model_to_dot( model,  show_shapes=True, show_layer_names=True).create(prog='dot', format='svg'))"
   ]
  },
  {
   "cell_type": "code",
   "execution_count": 61,
   "id": "c7e8dc88",
   "metadata": {},
   "outputs": [
    {
     "name": "stdout",
     "output_type": "stream",
     "text": [
      "Model: \"model_2\"\n",
      "__________________________________________________________________________________________________\n",
      " Layer (type)                   Output Shape         Param #     Connected to                     \n",
      "==================================================================================================\n",
      " User_Input (InputLayer)        [(None, 1)]          0           []                               \n",
      "                                                                                                  \n",
      " Movie_Input (InputLayer)       [(None, 1)]          0           []                               \n",
      "                                                                                                  \n",
      " User_Embedding (Embedding)     (None, 1, 50)        6924650     ['User_Input[0][0]']             \n",
      "                                                                                                  \n",
      " Movie_Embedding (Embedding)    (None, 1, 50)        1337200     ['Movie_Input[0][0]']            \n",
      "                                                                                                  \n",
      " User_Vector (Flatten)          (None, 50)           0           ['User_Embedding[0][0]']         \n",
      "                                                                                                  \n",
      " Movie_Vector (Flatten)         (None, 50)           0           ['Movie_Embedding[0][0]']        \n",
      "                                                                                                  \n",
      " Concantenate (Concatenate)     (None, 100)          0           ['User_Vector[0][0]',            \n",
      "                                                                  'Movie_Vector[0][0]']           \n",
      "                                                                                                  \n",
      " dense_2 (Dense)                (None, 100)          10100       ['Concantenate[0][0]']           \n",
      "                                                                                                  \n",
      " dense_3 (Dense)                (None, 1)            101         ['dense_2[0][0]']                \n",
      "                                                                                                  \n",
      "==================================================================================================\n",
      "Total params: 8,272,051\n",
      "Trainable params: 8,272,051\n",
      "Non-trainable params: 0\n",
      "__________________________________________________________________________________________________\n"
     ]
    }
   ],
   "source": [
    "model.summary()"
   ]
  },
  {
   "cell_type": "markdown",
   "id": "59088515",
   "metadata": {},
   "source": [
    "### Compiling Model"
   ]
  },
  {
   "cell_type": "code",
   "execution_count": 110,
   "id": "3a1d76fe",
   "metadata": {},
   "outputs": [],
   "source": [
    "optimizer = Adam(lr=0.0002)\n",
    "model.compile(loss='mean_squared_error', optimizer=optimizer)"
   ]
  },
  {
   "cell_type": "code",
   "execution_count": 64,
   "id": "07e0a2a6",
   "metadata": {},
   "outputs": [],
   "source": [
    "batch_size = 128\n",
    "epochs = 20"
   ]
  },
  {
   "cell_type": "markdown",
   "id": "ebd53387",
   "metadata": {},
   "source": [
    "### Training Model Architecture 2"
   ]
  },
  {
   "cell_type": "code",
   "execution_count": 65,
   "id": "4cb0e05f",
   "metadata": {},
   "outputs": [
    {
     "name": "stdout",
     "output_type": "stream",
     "text": [
      "Epoch 1/20\n",
      "125002/125002 - 513s - loss: 0.7945 - val_loss: 0.7214 - 513s/epoch - 4ms/step\n",
      "Epoch 2/20\n",
      "125002/125002 - 552s - loss: 0.6960 - val_loss: 0.6888 - 552s/epoch - 4ms/step\n",
      "Epoch 3/20\n",
      "125002/125002 - 535s - loss: 0.6589 - val_loss: 0.6731 - 535s/epoch - 4ms/step\n",
      "Epoch 4/20\n",
      "125002/125002 - 538s - loss: 0.6337 - val_loss: 0.6639 - 538s/epoch - 4ms/step\n",
      "Epoch 5/20\n",
      "125002/125002 - 535s - loss: 0.6102 - val_loss: 0.6581 - 535s/epoch - 4ms/step\n",
      "Epoch 6/20\n",
      "125002/125002 - 592s - loss: 0.5893 - val_loss: 0.6566 - 592s/epoch - 5ms/step\n",
      "Epoch 7/20\n",
      "125002/125002 - 570s - loss: 0.5715 - val_loss: 0.6566 - 570s/epoch - 5ms/step\n",
      "Epoch 8/20\n",
      "125002/125002 - 661s - loss: 0.5563 - val_loss: 0.6583 - 661s/epoch - 5ms/step\n",
      "Epoch 9/20\n",
      "125002/125002 - 576s - loss: 0.5431 - val_loss: 0.6605 - 576s/epoch - 5ms/step\n",
      "Epoch 10/20\n",
      "125002/125002 - 594s - loss: 0.5318 - val_loss: 0.6634 - 594s/epoch - 5ms/step\n",
      "Epoch 11/20\n",
      "125002/125002 - 556s - loss: 0.5220 - val_loss: 0.6666 - 556s/epoch - 4ms/step\n",
      "Epoch 12/20\n",
      "125002/125002 - 559s - loss: 0.5135 - val_loss: 0.6696 - 559s/epoch - 4ms/step\n",
      "Epoch 13/20\n",
      "125002/125002 - 584s - loss: 0.5058 - val_loss: 0.6726 - 584s/epoch - 5ms/step\n",
      "Epoch 14/20\n",
      "125002/125002 - 556s - loss: 0.4992 - val_loss: 0.6757 - 556s/epoch - 4ms/step\n",
      "Epoch 15/20\n",
      "125002/125002 - 555s - loss: 0.4931 - val_loss: 0.6793 - 555s/epoch - 4ms/step\n",
      "Epoch 16/20\n",
      "125002/125002 - 559s - loss: 0.4877 - val_loss: 0.6811 - 559s/epoch - 4ms/step\n",
      "Epoch 17/20\n",
      "125002/125002 - 585s - loss: 0.4829 - val_loss: 0.6849 - 585s/epoch - 5ms/step\n",
      "Epoch 18/20\n",
      "125002/125002 - 544s - loss: 0.4785 - val_loss: 0.6855 - 544s/epoch - 4ms/step\n",
      "Epoch 19/20\n",
      "125002/125002 - 579s - loss: 0.4745 - val_loss: 0.6895 - 579s/epoch - 5ms/step\n",
      "Epoch 20/20\n",
      "125002/125002 - 557s - loss: 0.4710 - val_loss: 0.6914 - 557s/epoch - 4ms/step\n"
     ]
    }
   ],
   "source": [
    "history_architech2 = model.fit(x=[x_train['userId'], x_train['movieId']], y=y_train, batch_size= batch_size, epochs=epochs, \n",
    "                    verbose= 2, validation_data=([x_test['userId'], x_test['movieId']], y_test))"
   ]
  },
  {
   "cell_type": "code",
   "execution_count": 66,
   "id": "6713aa61",
   "metadata": {},
   "outputs": [
    {
     "data": {
      "image/png": "[encoded data removed]",
      "text/plain": [
       "<Figure size 576x288 with 1 Axes>"
      ]
     },
     "metadata": {},
     "output_type": "display_data"
    }
   ],
   "source": [
    "# Get training and test loss histories\n",
    "training_loss = history_architech2.history['loss']\n",
    "test_loss = history_architech2.history['val_loss']\n",
    "\n",
    "# Create count of the number of epochs\n",
    "epoch_count = range(1, len(training_loss) + 1)\n",
    "\n",
    "# Visualize loss history\n",
    "plt.figure(figsize = (8,4))\n",
    "plt.plot(epoch_count, training_loss, 'r--')\n",
    "plt.plot(epoch_count, test_loss, 'b-')\n",
    "plt.legend(['Training Loss', 'Test Loss'])\n",
    "plt.xlabel('Epoch')\n",
    "plt.ylabel('Loss')\n",
    "plt.show()"
   ]
  },
  {
   "cell_type": "markdown",
   "id": "d9820189",
   "metadata": {},
   "source": [
    "### Saving Model"
   ]
  },
  {
   "cell_type": "code",
   "execution_count": 67,
   "id": "620a7835",
   "metadata": {},
   "outputs": [],
   "source": [
    "model.save(\"history_architech2.h5\")"
   ]
  },
  {
   "cell_type": "markdown",
   "id": "8989c809",
   "metadata": {},
   "source": [
    "### Evaluating Model"
   ]
  },
  {
   "cell_type": "code",
   "execution_count": 68,
   "id": "df8cd2f9",
   "metadata": {},
   "outputs": [
    {
     "name": "stdout",
     "output_type": "stream",
     "text": [
      "125002/125002 [==============================] - 338s 3ms/step - loss: 0.6914\n",
      "\n",
      "RMSE: 0.8315\n"
     ]
    }
   ],
   "source": [
    "score = model.evaluate([x_test['userId'], x_test['movieId']], y_test)\n",
    "\n",
    "print()\n",
    "print('RMSE: {:.4f}'.format(np.sqrt(score)))"
   ]
  },
  {
   "cell_type": "code",
   "execution_count": null,
   "id": "aa97c21c",
   "metadata": {},
   "outputs": [],
   "source": []
  }
 ],
 "metadata": {
  "kernelspec": {
   "display_name": "Python 3 (ipykernel)",
   "language": "python",
   "name": "python3"
  },
  "language_info": {
   "codemirror_mode": {
    "name": "ipython",
    "version": 3
   },
   "file_extension": ".py",
   "mimetype": "text/x-python",
   "name": "python",
   "nbconvert_exporter": "python",
   "pygments_lexer": "ipython3",
   "version": "3.9.12"
  }
 },
 "nbformat": 4,
 "nbformat_minor": 5
}
