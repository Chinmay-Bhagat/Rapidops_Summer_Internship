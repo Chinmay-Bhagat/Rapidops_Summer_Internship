{
 "cells": [
  {
   "cell_type": "code",
   "execution_count": 39,
   "id": "d590c97b",
   "metadata": {},
   "outputs": [],
   "source": [
    "# from keras.models import load_model\n",
    "# from keras.preprocessing import image\n",
    "# import cv2"
   ]
  },
  {
   "cell_type": "code",
   "execution_count": 59,
   "id": "6c492e5b",
   "metadata": {},
   "outputs": [],
   "source": [
    "#  model = load_model(\"resnet_classifier.h5\")\n",
    "# import the necessary packages\n",
    "from tensorflow.keras.models import load_model\n",
    "import argparse\n",
    "import pickle\n",
    "import cv2\n",
    "from tensorflow.keras.preprocessing.image import img_to_array\n",
    "from tensorflow.keras.applications.imagenet_utils import decode_predictions\n",
    "import numpy as np\n",
    "import logging, os\n",
    "import sys \n",
    "from keras.preprocessing import image\n",
    "import tensorflow as tf\n",
    "import math\n",
    "import operator\n",
    "from pathlib import Path\n",
    "import imutils\n"
   ]
  },
  {
   "cell_type": "code",
   "execution_count": 61,
   "id": "6ae8bd66",
   "metadata": {},
   "outputs": [
    {
     "ename": "UnidentifiedImageError",
     "evalue": "cannot identify image file <_io.BytesIO object at 0x7fe41209e0e0>",
     "output_type": "error",
     "traceback": [
      "\u001b[0;31m---------------------------------------------------------------------------\u001b[0m",
      "\u001b[0;31mUnidentifiedImageError\u001b[0m                    Traceback (most recent call last)",
      "Input \u001b[0;32mIn [61]\u001b[0m, in \u001b[0;36m<cell line: 11>\u001b[0;34m()\u001b[0m\n\u001b[1;32m     11\u001b[0m \u001b[38;5;28;01mfor\u001b[39;00m img \u001b[38;5;129;01min\u001b[39;00m os\u001b[38;5;241m.\u001b[39mlistdir(image_path):\n\u001b[1;32m     12\u001b[0m         img \u001b[38;5;241m=\u001b[39m os\u001b[38;5;241m.\u001b[39mpath\u001b[38;5;241m.\u001b[39mjoin(image_path, img)\n\u001b[0;32m---> 13\u001b[0m         image \u001b[38;5;241m=\u001b[39m \u001b[43mtf\u001b[49m\u001b[38;5;241;43m.\u001b[39;49m\u001b[43mkeras\u001b[49m\u001b[38;5;241;43m.\u001b[39;49m\u001b[43mutils\u001b[49m\u001b[38;5;241;43m.\u001b[39;49m\u001b[43mload_img\u001b[49m\u001b[43m(\u001b[49m\u001b[43mimg\u001b[49m\u001b[43m)\u001b[49m\n\u001b[1;32m     14\u001b[0m         img \u001b[38;5;241m=\u001b[39m tf\u001b[38;5;241m.\u001b[39mkeras\u001b[38;5;241m.\u001b[39mutils\u001b[38;5;241m.\u001b[39mload_img(img, target_size\u001b[38;5;241m=\u001b[39m(\u001b[38;5;241m600\u001b[39m,\u001b[38;5;241m600\u001b[39m))\n\u001b[1;32m     15\u001b[0m         img \u001b[38;5;241m=\u001b[39m tf\u001b[38;5;241m.\u001b[39mkeras\u001b[38;5;241m.\u001b[39mutils\u001b[38;5;241m.\u001b[39mimg_to_array(img)\n",
      "File \u001b[0;32m~/anaconda3/lib/python3.9/site-packages/keras/utils/image_utils.py:394\u001b[0m, in \u001b[0;36mload_img\u001b[0;34m(path, grayscale, color_mode, target_size, interpolation, keep_aspect_ratio)\u001b[0m\n\u001b[1;32m    392\u001b[0m     path \u001b[38;5;241m=\u001b[39m \u001b[38;5;28mstr\u001b[39m(path\u001b[38;5;241m.\u001b[39mresolve())\n\u001b[1;32m    393\u001b[0m   \u001b[38;5;28;01mwith\u001b[39;00m \u001b[38;5;28mopen\u001b[39m(path, \u001b[38;5;124m'\u001b[39m\u001b[38;5;124mrb\u001b[39m\u001b[38;5;124m'\u001b[39m) \u001b[38;5;28;01mas\u001b[39;00m f:\n\u001b[0;32m--> 394\u001b[0m     img \u001b[38;5;241m=\u001b[39m \u001b[43mpil_image\u001b[49m\u001b[38;5;241;43m.\u001b[39;49m\u001b[43mopen\u001b[49m\u001b[43m(\u001b[49m\u001b[43mio\u001b[49m\u001b[38;5;241;43m.\u001b[39;49m\u001b[43mBytesIO\u001b[49m\u001b[43m(\u001b[49m\u001b[43mf\u001b[49m\u001b[38;5;241;43m.\u001b[39;49m\u001b[43mread\u001b[49m\u001b[43m(\u001b[49m\u001b[43m)\u001b[49m\u001b[43m)\u001b[49m\u001b[43m)\u001b[49m\n\u001b[1;32m    395\u001b[0m \u001b[38;5;28;01melse\u001b[39;00m:\n\u001b[1;32m    396\u001b[0m   \u001b[38;5;28;01mraise\u001b[39;00m \u001b[38;5;167;01mTypeError\u001b[39;00m(\u001b[38;5;124m'\u001b[39m\u001b[38;5;124mpath should be path-like or io.BytesIO\u001b[39m\u001b[38;5;124m'\u001b[39m\n\u001b[1;32m    397\u001b[0m                   \u001b[38;5;124m'\u001b[39m\u001b[38;5;124m, not \u001b[39m\u001b[38;5;132;01m{}\u001b[39;00m\u001b[38;5;124m'\u001b[39m\u001b[38;5;241m.\u001b[39mformat(\u001b[38;5;28mtype\u001b[39m(path)))\n",
      "File \u001b[0;32m~/anaconda3/lib/python3.9/site-packages/PIL/Image.py:3008\u001b[0m, in \u001b[0;36mopen\u001b[0;34m(fp, mode, formats)\u001b[0m\n\u001b[1;32m   3006\u001b[0m \u001b[38;5;28;01mfor\u001b[39;00m message \u001b[38;5;129;01min\u001b[39;00m accept_warnings:\n\u001b[1;32m   3007\u001b[0m     warnings\u001b[38;5;241m.\u001b[39mwarn(message)\n\u001b[0;32m-> 3008\u001b[0m \u001b[38;5;28;01mraise\u001b[39;00m UnidentifiedImageError(\n\u001b[1;32m   3009\u001b[0m     \u001b[38;5;124m\"\u001b[39m\u001b[38;5;124mcannot identify image file \u001b[39m\u001b[38;5;132;01m%r\u001b[39;00m\u001b[38;5;124m\"\u001b[39m \u001b[38;5;241m%\u001b[39m (filename \u001b[38;5;28;01mif\u001b[39;00m filename \u001b[38;5;28;01melse\u001b[39;00m fp)\n\u001b[1;32m   3010\u001b[0m )\n",
      "\u001b[0;31mUnidentifiedImageError\u001b[0m: cannot identify image file <_io.BytesIO object at 0x7fe41209e0e0>"
     ]
    }
   ],
   "source": [
    "\n",
    "# disable the warnings\n",
    "logging.disable(logging.WARNING)\n",
    "os.environ[\"TF_CPP_MIN_LOG_LEVEL\"] = \"3\"\n",
    "\n",
    "image_path = 'urmc-hospital'#\"Test_case\"\n",
    "\n",
    "images = []\n",
    "output_images = []\n",
    "\n",
    "# load all images into a list\n",
    "for img in os.listdir(image_path):\n",
    "        img = os.path.join(image_path, img)\n",
    "        image = tf.keras.utils.load_img(img)\n",
    "        img = tf.keras.utils.load_img(img, target_size=(600,600))\n",
    "        img = tf.keras.utils.img_to_array(img)\n",
    "        img = np.expand_dims(img, axis=0)\n",
    "        # normalize the image\n",
    "        processed_image = np.array(img, dtype=\"float\") / 255.0\n",
    "        images.append(processed_image)\n",
    "        output_images.append(image)\n",
    "        \n",
    "images = np.vstack(images)\n",
    "\n",
    "# # relative paths to the model and labels\n",
    "# model_path = os.path('resnet_classifier.h5')\n",
    "# label_file_path = os.path.join(\"Output\", 'labels')\n",
    "\n",
    "# load the model and the label encoder\n",
    "model = load_model('resnet_classifier.h5')\n",
    "# lb = pickle.loads(open(label_file_path, \"rb\").read())\n",
    "\n",
    "# make a prediction on the image\n",
    "images_data = []\n",
    "filenames = []\n",
    "for filename in os.listdir(image_path):    \n",
    "    pred_result = model.predict(images)\n",
    "    images_data.append(pred_result)\n",
    "#     filenames.append(filename)"
   ]
  },
  {
   "cell_type": "code",
   "execution_count": 46,
   "id": "86313101",
   "metadata": {},
   "outputs": [],
   "source": [
    "# images_data"
   ]
  },
  {
   "cell_type": "code",
   "execution_count": 47,
   "id": "b7f07b98",
   "metadata": {},
   "outputs": [],
   "source": [
    "# for i in range(len(images_data)):\n",
    "#     print(images_data[i][0])"
   ]
  },
  {
   "cell_type": "code",
   "execution_count": 56,
   "id": "98924f03",
   "metadata": {},
   "outputs": [
    {
     "data": {
      "text/plain": [
       "array([[0.000000e+00],\n",
       "       [0.000000e+00],\n",
       "       [0.000000e+00],\n",
       "       [5.161208e-11],\n",
       "       [0.000000e+00],\n",
       "       [0.000000e+00]], dtype=float32)"
      ]
     },
     "execution_count": 56,
     "metadata": {},
     "output_type": "execute_result"
    }
   ],
   "source": [
    "pred_result"
   ]
  },
  {
   "cell_type": "code",
   "execution_count": 31,
   "id": "4ba0cd1e",
   "metadata": {},
   "outputs": [],
   "source": [
    "# import sklearn.metrics as metrics\n",
    "# cm = metrics.confusion_matrix(test_set.classes, pred_result)\n",
    "# print(cm)"
   ]
  },
  {
   "cell_type": "code",
   "execution_count": 57,
   "id": "cce935d5",
   "metadata": {},
   "outputs": [
    {
     "data": {
      "text/plain": [
       "6"
      ]
     },
     "execution_count": 57,
     "metadata": {},
     "output_type": "execute_result"
    }
   ],
   "source": [
    "from PIL import Image\n",
    "len(pred_result)"
   ]
  },
  {
   "cell_type": "code",
   "execution_count": 58,
   "id": "50cbd75f",
   "metadata": {},
   "outputs": [],
   "source": [
    "count_S = 0\n",
    "count_C = 0\n",
    "for i in range(len(pred_result)):\n",
    "    if pred_result[i] >= 0.5:\n",
    "        count_C += 1\n",
    "        image_path = '/home/ad.rapidops.com/vyom.vora/Architech_Filter/Output_Data/Simple/'+str(count_C)+'.jpg'\n",
    "        img = output_images[i].save(image_path)\n",
    "    else:\n",
    "        count_S += 1\n",
    "        image_path = '/home/ad.rapidops.com/vyom.vora/Architech_Filter/Output_Data/Complex/'+str(count_S)+'.jpg'\n",
    "        img = output_images[i].save(image_path)\n",
    "        "
   ]
  },
  {
   "cell_type": "code",
   "execution_count": null,
   "id": "1be93655",
   "metadata": {},
   "outputs": [],
   "source": []
  }
 ],
 "metadata": {
  "kernelspec": {
   "display_name": "Python 3 (ipykernel)",
   "language": "python",
   "name": "python3"
  },
  "language_info": {
   "codemirror_mode": {
    "name": "ipython",
    "version": 3
   },
   "file_extension": ".py",
   "mimetype": "text/x-python",
   "name": "python",
   "nbconvert_exporter": "python",
   "pygments_lexer": "ipython3",
   "version": "3.9.12"
  }
 },
 "nbformat": 4,
 "nbformat_minor": 5
}
